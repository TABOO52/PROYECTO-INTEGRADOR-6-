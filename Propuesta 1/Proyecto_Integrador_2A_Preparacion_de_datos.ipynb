{
  "cells": [
    {
      "cell_type": "markdown",
      "metadata": {
        "id": "4WaoEOp0KkSp"
      },
      "source": [
        "![HenryLogo](https://d31uz8lwfmyn8g.cloudfront.net/Assets/logo-henry-white-lg.png)\n",
        "\n",
        "# **Proyecto integrador**\n",
        "\n",
        "### 2. Preparación de datos\n",
        "\n",
        "Una vez entendido el contexto de la problemática y realizado el análisis exploratorio de datos de acuerdo con la descripción del dataset y la información entregada al equipo en la fase anterior, se comparte un paso a paso que deberá ser diligenciado por el equipo de ciencia de datos asignado para esta tarea con el fin de guiar el proceso de EDA y preparación de datos, lo cual es crucial antes de desarollar el modelamiento. \n",
        "\n",
        "El estudio tiene como objetivo la clasificación de un paciente como hospitalizado o no hospitalizado.\n",
        "\n",
        "\n"
      ]
    },
    {
      "cell_type": "markdown",
      "metadata": {
        "id": "E22GkymtLevx"
      },
      "source": [
        "Carguen la base de datos y revisen el tipo de cada columna del dataset. Si es necesario realicen conversiones de tipos de datos. "
      ]
    },
    {
      "cell_type": "code",
      "execution_count": 15,
      "metadata": {
        "id": "dlRCMYtGLqDJ"
      },
      "outputs": [
        {
          "name": "stderr",
          "output_type": "stream",
          "text": [
            "c:\\Users\\fate8\\AppData\\Local\\Programs\\Python\\Python312\\Lib\\site-packages\\openpyxl\\worksheet\\_reader.py:329: UserWarning: Unknown extension is not supported and will be removed\n",
            "  warn(msg)\n"
          ]
        },
        {
          "data": {
            "text/html": [
              "<div>\n",
              "<style scoped>\n",
              "    .dataframe tbody tr th:only-of-type {\n",
              "        vertical-align: middle;\n",
              "    }\n",
              "\n",
              "    .dataframe tbody tr th {\n",
              "        vertical-align: top;\n",
              "    }\n",
              "\n",
              "    .dataframe thead th {\n",
              "        text-align: right;\n",
              "    }\n",
              "</style>\n",
              "<table border=\"1\" class=\"dataframe\">\n",
              "  <thead>\n",
              "    <tr style=\"text-align: right;\">\n",
              "      <th></th>\n",
              "      <th>EDAD</th>\n",
              "      <th>DIABETES</th>\n",
              "      <th>HOSPITALIZACIÓN ULTIMO MES</th>\n",
              "      <th>PSA</th>\n",
              "      <th>BIOPSIAS PREVIAS</th>\n",
              "      <th>VOLUMEN PROSTATICO</th>\n",
              "      <th>ANTIBIOTICO UTILIAZADO EN LA PROFILAXIS</th>\n",
              "      <th>NUMERO DE MUESTRAS TOMADAS</th>\n",
              "      <th>CUP</th>\n",
              "      <th>ENF. CRONICA PULMONAR OBSTRUCTIVA</th>\n",
              "      <th>BIOPSIA</th>\n",
              "      <th>NUMERO DE DIAS POST BIOPSIA EN QUE SE PRESENTA LA COMPLICACIÓN INFECCIOSA</th>\n",
              "      <th>FIEBRE</th>\n",
              "      <th>ITU</th>\n",
              "      <th>TIPO DE CULTIVO</th>\n",
              "      <th>AGENTE AISLADO</th>\n",
              "      <th>PATRON DE RESISTENCIA</th>\n",
              "      <th>HOSPITALIZACION</th>\n",
              "      <th>DIAS HOSPITALIZACION MQ</th>\n",
              "      <th>DIAS HOSPITALIZACIÓN UPC</th>\n",
              "    </tr>\n",
              "  </thead>\n",
              "  <tbody>\n",
              "    <tr>\n",
              "      <th>0</th>\n",
              "      <td>53.0</td>\n",
              "      <td>NO</td>\n",
              "      <td>NO</td>\n",
              "      <td>4.00</td>\n",
              "      <td>NO</td>\n",
              "      <td>SI</td>\n",
              "      <td>FLUOROQUINOLONA_AMINOGLICOSIDO</td>\n",
              "      <td>12.0</td>\n",
              "      <td>NO</td>\n",
              "      <td>NO</td>\n",
              "      <td>NEG</td>\n",
              "      <td>1</td>\n",
              "      <td>SI</td>\n",
              "      <td>NO</td>\n",
              "      <td>NO</td>\n",
              "      <td>NO</td>\n",
              "      <td>NO</td>\n",
              "      <td>SI</td>\n",
              "      <td>2.0</td>\n",
              "      <td>0.0</td>\n",
              "    </tr>\n",
              "    <tr>\n",
              "      <th>1</th>\n",
              "      <td>56.0</td>\n",
              "      <td>NO</td>\n",
              "      <td>NO</td>\n",
              "      <td>7.70</td>\n",
              "      <td>NO</td>\n",
              "      <td>SI</td>\n",
              "      <td>FLUOROQUINOLONA_AMINOGLICOSIDO</td>\n",
              "      <td>12.0</td>\n",
              "      <td>NO</td>\n",
              "      <td>NO</td>\n",
              "      <td>NEG</td>\n",
              "      <td>1</td>\n",
              "      <td>SI</td>\n",
              "      <td>NO</td>\n",
              "      <td>NO</td>\n",
              "      <td>NO</td>\n",
              "      <td>NO</td>\n",
              "      <td>SI</td>\n",
              "      <td>5.0</td>\n",
              "      <td>0.0</td>\n",
              "    </tr>\n",
              "    <tr>\n",
              "      <th>2</th>\n",
              "      <td>57.0</td>\n",
              "      <td>NO</td>\n",
              "      <td>NO</td>\n",
              "      <td>29.00</td>\n",
              "      <td>SI</td>\n",
              "      <td>SI</td>\n",
              "      <td>FLUOROQUINOLONA_AMINOGLICOSIDO</td>\n",
              "      <td>24.0</td>\n",
              "      <td>NO</td>\n",
              "      <td>NO</td>\n",
              "      <td>NEG</td>\n",
              "      <td>1</td>\n",
              "      <td>SI</td>\n",
              "      <td>NO</td>\n",
              "      <td>HEMOCULTIVO</td>\n",
              "      <td>E.COLI</td>\n",
              "      <td>AMPI R, CIPRO R, GENTA R, SULFA M R</td>\n",
              "      <td>SI</td>\n",
              "      <td>4.0</td>\n",
              "      <td>3.0</td>\n",
              "    </tr>\n",
              "    <tr>\n",
              "      <th>3</th>\n",
              "      <td>56.0</td>\n",
              "      <td>NO</td>\n",
              "      <td>NO</td>\n",
              "      <td>7.00</td>\n",
              "      <td>NO</td>\n",
              "      <td>SI</td>\n",
              "      <td>FLUOROQUINOLONA_AMINOGLICOSIDO</td>\n",
              "      <td>12.0</td>\n",
              "      <td>NO</td>\n",
              "      <td>NO</td>\n",
              "      <td>NEG</td>\n",
              "      <td>1</td>\n",
              "      <td>SI</td>\n",
              "      <td>NO</td>\n",
              "      <td>NO</td>\n",
              "      <td>NO</td>\n",
              "      <td>NO</td>\n",
              "      <td>SI</td>\n",
              "      <td>5.0</td>\n",
              "      <td>0.0</td>\n",
              "    </tr>\n",
              "    <tr>\n",
              "      <th>4</th>\n",
              "      <td>55.0</td>\n",
              "      <td>NO</td>\n",
              "      <td>NO</td>\n",
              "      <td>29.00</td>\n",
              "      <td>SI</td>\n",
              "      <td>SI</td>\n",
              "      <td>FLUOROQUINOLONA_AMINOGLICOSIDO</td>\n",
              "      <td>24.0</td>\n",
              "      <td>NO</td>\n",
              "      <td>NO</td>\n",
              "      <td>NEG</td>\n",
              "      <td>1</td>\n",
              "      <td>SI</td>\n",
              "      <td>NO</td>\n",
              "      <td>HEMOCULTIVO</td>\n",
              "      <td>E.COLI</td>\n",
              "      <td>NO</td>\n",
              "      <td>SI</td>\n",
              "      <td>4.0</td>\n",
              "      <td>3.0</td>\n",
              "    </tr>\n",
              "    <tr>\n",
              "      <th>...</th>\n",
              "      <td>...</td>\n",
              "      <td>...</td>\n",
              "      <td>...</td>\n",
              "      <td>...</td>\n",
              "      <td>...</td>\n",
              "      <td>...</td>\n",
              "      <td>...</td>\n",
              "      <td>...</td>\n",
              "      <td>...</td>\n",
              "      <td>...</td>\n",
              "      <td>...</td>\n",
              "      <td>...</td>\n",
              "      <td>...</td>\n",
              "      <td>...</td>\n",
              "      <td>...</td>\n",
              "      <td>...</td>\n",
              "      <td>...</td>\n",
              "      <td>...</td>\n",
              "      <td>...</td>\n",
              "      <td>...</td>\n",
              "    </tr>\n",
              "    <tr>\n",
              "      <th>565</th>\n",
              "      <td>69.0</td>\n",
              "      <td>NO</td>\n",
              "      <td>NO</td>\n",
              "      <td>4.43</td>\n",
              "      <td>NaN</td>\n",
              "      <td>NaN</td>\n",
              "      <td>FLUOROQUINOLONA_AMINOGLICOSIDO</td>\n",
              "      <td>20.0</td>\n",
              "      <td>NaN</td>\n",
              "      <td>NO</td>\n",
              "      <td>NEG</td>\n",
              "      <td>NO</td>\n",
              "      <td>NO</td>\n",
              "      <td>NO</td>\n",
              "      <td>NO</td>\n",
              "      <td>NO</td>\n",
              "      <td>NO</td>\n",
              "      <td>NO</td>\n",
              "      <td>0.0</td>\n",
              "      <td>0.0</td>\n",
              "    </tr>\n",
              "    <tr>\n",
              "      <th>566</th>\n",
              "      <td>67.0</td>\n",
              "      <td>NO</td>\n",
              "      <td>NO</td>\n",
              "      <td>8.00</td>\n",
              "      <td>NO</td>\n",
              "      <td>SI</td>\n",
              "      <td>FLUOROQUINOLONA_AMINOGLICOSIDO</td>\n",
              "      <td>12.0</td>\n",
              "      <td>NO</td>\n",
              "      <td>NaN</td>\n",
              "      <td>ADENOCARCINOMA GLEASON 7</td>\n",
              "      <td>NO</td>\n",
              "      <td>NO</td>\n",
              "      <td>NO</td>\n",
              "      <td>NO</td>\n",
              "      <td>NaN</td>\n",
              "      <td>NO</td>\n",
              "      <td>NO</td>\n",
              "      <td>0.0</td>\n",
              "      <td>0.0</td>\n",
              "    </tr>\n",
              "    <tr>\n",
              "      <th>567</th>\n",
              "      <td>59.0</td>\n",
              "      <td>NO</td>\n",
              "      <td>NO</td>\n",
              "      <td>9.00</td>\n",
              "      <td>SI</td>\n",
              "      <td>SI</td>\n",
              "      <td>FLUOROQUINOLONA_AMINOGLICOSIDO</td>\n",
              "      <td>12.0</td>\n",
              "      <td>NO</td>\n",
              "      <td>NaN</td>\n",
              "      <td>NEG</td>\n",
              "      <td>NO</td>\n",
              "      <td>NO</td>\n",
              "      <td>NO</td>\n",
              "      <td>NO</td>\n",
              "      <td>NO</td>\n",
              "      <td>NO</td>\n",
              "      <td>NO</td>\n",
              "      <td>0.0</td>\n",
              "      <td>0.0</td>\n",
              "    </tr>\n",
              "    <tr>\n",
              "      <th>568</th>\n",
              "      <td>NaN</td>\n",
              "      <td>NaN</td>\n",
              "      <td>NaN</td>\n",
              "      <td>NaN</td>\n",
              "      <td>NaN</td>\n",
              "      <td>NaN</td>\n",
              "      <td>NaN</td>\n",
              "      <td>NaN</td>\n",
              "      <td>NaN</td>\n",
              "      <td>NaN</td>\n",
              "      <td>NaN</td>\n",
              "      <td>NaN</td>\n",
              "      <td>NaN</td>\n",
              "      <td>NaN</td>\n",
              "      <td>NaN</td>\n",
              "      <td>NaN</td>\n",
              "      <td>NaN</td>\n",
              "      <td>NaN</td>\n",
              "      <td>NaN</td>\n",
              "      <td>NaN</td>\n",
              "    </tr>\n",
              "    <tr>\n",
              "      <th>569</th>\n",
              "      <td>NaN</td>\n",
              "      <td>NaN</td>\n",
              "      <td>NaN</td>\n",
              "      <td>NaN</td>\n",
              "      <td>NaN</td>\n",
              "      <td>NaN</td>\n",
              "      <td>NaN</td>\n",
              "      <td>NaN</td>\n",
              "      <td>NaN</td>\n",
              "      <td>NaN</td>\n",
              "      <td>NaN</td>\n",
              "      <td>NaN</td>\n",
              "      <td>NaN</td>\n",
              "      <td>NaN</td>\n",
              "      <td>NaN</td>\n",
              "      <td>NaN</td>\n",
              "      <td>NaN</td>\n",
              "      <td>NaN</td>\n",
              "      <td>NaN</td>\n",
              "      <td>NaN</td>\n",
              "    </tr>\n",
              "  </tbody>\n",
              "</table>\n",
              "<p>570 rows × 20 columns</p>\n",
              "</div>"
            ],
            "text/plain": [
              "     EDAD DIABETES HOSPITALIZACIÓN ULTIMO MES    PSA BIOPSIAS PREVIAS  \\\n",
              "0    53.0       NO                         NO   4.00               NO   \n",
              "1    56.0       NO                         NO   7.70               NO   \n",
              "2    57.0       NO                         NO  29.00               SI   \n",
              "3    56.0       NO                         NO   7.00               NO   \n",
              "4    55.0       NO                         NO  29.00               SI   \n",
              "..    ...      ...                        ...    ...              ...   \n",
              "565  69.0       NO                         NO   4.43              NaN   \n",
              "566  67.0       NO                         NO   8.00               NO   \n",
              "567  59.0       NO                         NO   9.00               SI   \n",
              "568   NaN      NaN                        NaN    NaN              NaN   \n",
              "569   NaN      NaN                        NaN    NaN              NaN   \n",
              "\n",
              "    VOLUMEN PROSTATICO ANTIBIOTICO UTILIAZADO EN LA PROFILAXIS  \\\n",
              "0                   SI          FLUOROQUINOLONA_AMINOGLICOSIDO   \n",
              "1                   SI          FLUOROQUINOLONA_AMINOGLICOSIDO   \n",
              "2                   SI          FLUOROQUINOLONA_AMINOGLICOSIDO   \n",
              "3                   SI          FLUOROQUINOLONA_AMINOGLICOSIDO   \n",
              "4                   SI          FLUOROQUINOLONA_AMINOGLICOSIDO   \n",
              "..                 ...                                     ...   \n",
              "565                NaN          FLUOROQUINOLONA_AMINOGLICOSIDO   \n",
              "566                 SI          FLUOROQUINOLONA_AMINOGLICOSIDO   \n",
              "567                 SI          FLUOROQUINOLONA_AMINOGLICOSIDO   \n",
              "568                NaN                                     NaN   \n",
              "569                NaN                                     NaN   \n",
              "\n",
              "     NUMERO DE MUESTRAS TOMADAS  CUP ENF. CRONICA PULMONAR OBSTRUCTIVA  \\\n",
              "0                          12.0   NO                                NO   \n",
              "1                          12.0   NO                                NO   \n",
              "2                          24.0   NO                                NO   \n",
              "3                          12.0   NO                                NO   \n",
              "4                          24.0   NO                                NO   \n",
              "..                          ...  ...                               ...   \n",
              "565                        20.0  NaN                                NO   \n",
              "566                        12.0   NO                               NaN   \n",
              "567                        12.0   NO                               NaN   \n",
              "568                         NaN  NaN                               NaN   \n",
              "569                         NaN  NaN                               NaN   \n",
              "\n",
              "                       BIOPSIA  \\\n",
              "0                          NEG   \n",
              "1                          NEG   \n",
              "2                          NEG   \n",
              "3                          NEG   \n",
              "4                          NEG   \n",
              "..                         ...   \n",
              "565                        NEG   \n",
              "566  ADENOCARCINOMA GLEASON 7    \n",
              "567                        NEG   \n",
              "568                        NaN   \n",
              "569                        NaN   \n",
              "\n",
              "    NUMERO DE DIAS POST BIOPSIA EN QUE SE PRESENTA LA COMPLICACIÓN INFECCIOSA  \\\n",
              "0                                                    1                          \n",
              "1                                                    1                          \n",
              "2                                                    1                          \n",
              "3                                                    1                          \n",
              "4                                                    1                          \n",
              "..                                                 ...                          \n",
              "565                                                 NO                          \n",
              "566                                                 NO                          \n",
              "567                                                 NO                          \n",
              "568                                                NaN                          \n",
              "569                                                NaN                          \n",
              "\n",
              "    FIEBRE  ITU TIPO DE CULTIVO AGENTE AISLADO  \\\n",
              "0       SI   NO              NO             NO   \n",
              "1       SI   NO              NO             NO   \n",
              "2       SI   NO     HEMOCULTIVO         E.COLI   \n",
              "3       SI   NO              NO             NO   \n",
              "4       SI   NO     HEMOCULTIVO         E.COLI   \n",
              "..     ...  ...             ...            ...   \n",
              "565     NO   NO              NO             NO   \n",
              "566     NO   NO              NO            NaN   \n",
              "567     NO   NO              NO             NO   \n",
              "568    NaN  NaN             NaN            NaN   \n",
              "569    NaN  NaN             NaN            NaN   \n",
              "\n",
              "                    PATRON DE RESISTENCIA HOSPITALIZACION  \\\n",
              "0                                      NO              SI   \n",
              "1                                      NO              SI   \n",
              "2     AMPI R, CIPRO R, GENTA R, SULFA M R              SI   \n",
              "3                                      NO              SI   \n",
              "4                                      NO              SI   \n",
              "..                                    ...             ...   \n",
              "565                                    NO              NO   \n",
              "566                                    NO              NO   \n",
              "567                                    NO              NO   \n",
              "568                                   NaN             NaN   \n",
              "569                                   NaN             NaN   \n",
              "\n",
              "     DIAS HOSPITALIZACION MQ  DIAS HOSPITALIZACIÓN UPC  \n",
              "0                        2.0                       0.0  \n",
              "1                        5.0                       0.0  \n",
              "2                        4.0                       3.0  \n",
              "3                        5.0                       0.0  \n",
              "4                        4.0                       3.0  \n",
              "..                       ...                       ...  \n",
              "565                      0.0                       0.0  \n",
              "566                      0.0                       0.0  \n",
              "567                      0.0                       0.0  \n",
              "568                      NaN                       NaN  \n",
              "569                      NaN                       NaN  \n",
              "\n",
              "[570 rows x 20 columns]"
            ]
          },
          "execution_count": 15,
          "metadata": {},
          "output_type": "execute_result"
        }
      ],
      "source": [
        "import pandas as pd\n",
        "import numpy as np\n",
        "\n",
        "df = pd.read_excel('BBDD_Hospitalización.xlsx')\n",
        "df\n",
        "# Todas las columnas tienen valores faltantes\n",
        "\n",
        "# Edad = float (int)\n",
        "# Diabetes = object (bool) \n",
        "# Hosp... = object (bool)\n",
        "# psa = float\n",
        "# Biopsia... = object (bool)\n",
        "# Volumen prostatico = object (bool)\n",
        "# Antibiotico... = object \n",
        "# Numero de muestras = float (int)\n",
        "# CUP = object (bool)\n",
        "# Enf cro... = object (bool)\n",
        "# Biopsia = object \n",
        "# Numero dias... = object \n",
        "# Fiebre = object (bool)\n",
        "# ITU = object (bool)\n",
        "# Tipo cultivo = object\n",
        "# Agente aislado = object \n",
        "# Patron de resistencia = object\n",
        "# Hospitalizacion = object (bool)\n",
        "# Dias MQ = float (int)\n",
        "# Dias UPC = float (int)"
      ]
    },
    {
      "cell_type": "code",
      "execution_count": 14,
      "metadata": {},
      "outputs": [
        {
          "name": "stdout",
          "output_type": "stream",
          "text": [
            "EDAD                                                                         float64\n",
            "DIABETES                                                                      object\n",
            "HOSPITALIZACIÓN ULTIMO MES                                                    object\n",
            "PSA                                                                          float64\n",
            "BIOPSIAS PREVIAS                                                              object\n",
            "VOLUMEN PROSTATICO                                                            object\n",
            "ANTIBIOTICO UTILIAZADO EN LA PROFILAXIS                                       object\n",
            "NUMERO DE MUESTRAS TOMADAS                                                   float64\n",
            "CUP                                                                           object\n",
            "ENF. CRONICA PULMONAR OBSTRUCTIVA                                             object\n",
            "BIOPSIA                                                                       object\n",
            "NUMERO DE DIAS POST BIOPSIA EN QUE SE PRESENTA LA COMPLICACIÓN INFECCIOSA     object\n",
            "FIEBRE                                                                        object\n",
            "ITU                                                                           object\n",
            "TIPO DE CULTIVO                                                               object\n",
            "AGENTE AISLADO                                                                object\n",
            "PATRON DE RESISTENCIA                                                         object\n",
            "HOSPITALIZACION                                                               object\n",
            "DIAS HOSPITALIZACION MQ                                                      float64\n",
            "DIAS HOSPITALIZACIÓN UPC                                                     float64\n",
            "dtype: object\n"
          ]
        }
      ],
      "source": [
        "print(df.dtypes)"
      ]
    },
    {
      "cell_type": "markdown",
      "metadata": {
        "id": "X33Od3Y_Lrye"
      },
      "source": [
        "Eliminen variables si es que consideran irrelevantes, sustentando adecuadamente por qué."
      ]
    },
    {
      "cell_type": "code",
      "execution_count": null,
      "metadata": {
        "id": "Zjq3g_zkMUT5"
      },
      "outputs": [],
      "source": []
    },
    {
      "cell_type": "markdown",
      "metadata": {
        "id": "mTV2RdmbMoRE"
      },
      "source": [
        "Revisen la distribución estadística para el caso de las variables numéricas. ¿Qué gráficos permiten realizar un estudio exploratorio de la distribución? ¿Hay datos atípicos?"
      ]
    },
    {
      "cell_type": "code",
      "execution_count": null,
      "metadata": {
        "id": "ILzt6oOaM1ag"
      },
      "outputs": [],
      "source": []
    },
    {
      "cell_type": "markdown",
      "metadata": {
        "id": "zyQIaY1bM12g"
      },
      "source": [
        "Si encontraron datos atípicos, ¿Imputarán o eliminarán los valores? Sustentar."
      ]
    },
    {
      "cell_type": "code",
      "execution_count": null,
      "metadata": {
        "id": "HO3Db1YQM9JS"
      },
      "outputs": [],
      "source": []
    },
    {
      "cell_type": "markdown",
      "metadata": {
        "id": "HAZhxOMyNFON"
      },
      "source": [
        "Para las variables categóricas, realizar una visualización adecuada para observar las frecuencias de cada categoría. ¿Observa alguna anomalía, problema de formato en alguna variable?"
      ]
    },
    {
      "cell_type": "code",
      "execution_count": null,
      "metadata": {
        "id": "_GpXEa1oNQfG"
      },
      "outputs": [],
      "source": []
    },
    {
      "cell_type": "markdown",
      "metadata": {
        "id": "CmRUpq9FMcsi"
      },
      "source": [
        "Revisen la cantidad de nulos que tiene cada columna. ¿Es necesario eliminar alguna columna? ¿Se imputarán valores? En caso de imputar, explicar en cada caso, por medio de qué estrategia lo harán. "
      ]
    },
    {
      "cell_type": "code",
      "execution_count": null,
      "metadata": {
        "id": "xSSe-ZHpMmdz"
      },
      "outputs": [],
      "source": []
    },
    {
      "cell_type": "markdown",
      "metadata": {
        "id": "b_u-bC8FNTkT"
      },
      "source": [
        "Para el caso de las variables numéricas, ¿Es necesario normalizar?"
      ]
    },
    {
      "cell_type": "code",
      "execution_count": null,
      "metadata": {
        "id": "I9w7a6dXNYPz"
      },
      "outputs": [],
      "source": []
    },
    {
      "cell_type": "markdown",
      "metadata": {
        "id": "EiqnqbBuNmmW"
      },
      "source": [
        "Realice las transformaciones que considere pertinentes con el fin de preparar los datos para un modelo de clasificación de un paciente con desenlace en Hospitalización. "
      ]
    },
    {
      "cell_type": "code",
      "execution_count": null,
      "metadata": {
        "id": "m_n9Yfg0NmTP"
      },
      "outputs": [],
      "source": []
    },
    {
      "cell_type": "markdown",
      "metadata": {
        "id": "_xXX6APsNjkV"
      },
      "source": [
        "Realice una matriz de correlación con el fin de determinar si hay variables redundantes. En caso de encontrar altas correlaciones, ¿Tomará alguna acción?"
      ]
    },
    {
      "cell_type": "code",
      "execution_count": null,
      "metadata": {
        "id": "paHDdRnYN_Gl"
      },
      "outputs": [],
      "source": []
    },
    {
      "cell_type": "markdown",
      "metadata": {
        "id": "P2oE3VuBN_d6"
      },
      "source": [
        "Exporte la base de datos preparada en un archivo .csv para el modelamiento. "
      ]
    },
    {
      "cell_type": "code",
      "execution_count": null,
      "metadata": {
        "id": "SzPhC-FROFGt"
      },
      "outputs": [],
      "source": []
    }
  ],
  "metadata": {
    "colab": {
      "provenance": []
    },
    "kernelspec": {
      "display_name": "Python 3",
      "language": "python",
      "name": "python3"
    },
    "language_info": {
      "codemirror_mode": {
        "name": "ipython",
        "version": 3
      },
      "file_extension": ".py",
      "mimetype": "text/x-python",
      "name": "python",
      "nbconvert_exporter": "python",
      "pygments_lexer": "ipython3",
      "version": "3.12.4"
    },
    "orig_nbformat": 4,
    "vscode": {
      "interpreter": {
        "hash": "ae0e7af47f894f9476ada5eb18ddb08363018cc3b7dc70bce08ae16d38df8604"
      }
    }
  },
  "nbformat": 4,
  "nbformat_minor": 0
}
