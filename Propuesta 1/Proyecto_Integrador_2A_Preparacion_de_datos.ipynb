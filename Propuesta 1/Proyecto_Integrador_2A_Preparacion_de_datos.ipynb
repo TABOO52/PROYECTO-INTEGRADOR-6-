{
  "cells": [
    {
      "cell_type": "markdown",
      "source": [
        "![HenryLogo](https://d31uz8lwfmyn8g.cloudfront.net/Assets/logo-henry-white-lg.png)\n",
        "\n",
        "# **Proyecto integrador**\n",
        "\n",
        "### 2. Preparación de datos\n",
        "\n",
        "Una vez entendido el contexto de la problemática y realizado el análisis exploratorio de datos de acuerdo con la descripción del dataset y la información entregada al equipo en la fase anterior, se comparte un paso a paso que deberá ser diligenciado por el equipo de ciencia de datos asignado para esta tarea con el fin de guiar el proceso de EDA y preparación de datos, lo cual es crucial antes de desarollar el modelamiento. \n",
        "\n",
        "El estudio tiene como objetivo la clasificación de un paciente como hospitalizado o no hospitalizado.\n",
        "\n",
        "\n"
      ],
      "metadata": {
        "id": "4WaoEOp0KkSp"
      }
    },
    {
      "cell_type": "markdown",
      "source": [
        "Carguen la base de datos y revisen el tipo de cada columna del dataset. Si es necesario realicen conversiones de tipos de datos. "
      ],
      "metadata": {
        "id": "E22GkymtLevx"
      }
    },
    {
      "cell_type": "code",
      "source": [],
      "metadata": {
        "id": "dlRCMYtGLqDJ"
      },
      "execution_count": null,
      "outputs": []
    },
    {
      "cell_type": "markdown",
      "source": [
        "Eliminen variables si es que consideran irrelevantes, sustentando adecuadamente por qué."
      ],
      "metadata": {
        "id": "X33Od3Y_Lrye"
      }
    },
    {
      "cell_type": "code",
      "source": [],
      "metadata": {
        "id": "Zjq3g_zkMUT5"
      },
      "execution_count": null,
      "outputs": []
    },
    {
      "cell_type": "markdown",
      "source": [
        "Revisen la distribución estadística para el caso de las variables numéricas. ¿Qué gráficos permiten realizar un estudio exploratorio de la distribución? ¿Hay datos atípicos?"
      ],
      "metadata": {
        "id": "mTV2RdmbMoRE"
      }
    },
    {
      "cell_type": "code",
      "source": [],
      "metadata": {
        "id": "ILzt6oOaM1ag"
      },
      "execution_count": null,
      "outputs": []
    },
    {
      "cell_type": "markdown",
      "source": [
        "Si encontraron datos atípicos, ¿Imputarán o eliminarán los valores? Sustentar."
      ],
      "metadata": {
        "id": "zyQIaY1bM12g"
      }
    },
    {
      "cell_type": "code",
      "source": [],
      "metadata": {
        "id": "HO3Db1YQM9JS"
      },
      "execution_count": null,
      "outputs": []
    },
    {
      "cell_type": "markdown",
      "source": [
        "Para las variables categóricas, realizar una visualización adecuada para observar las frecuencias de cada categoría. ¿Observa alguna anomalía, problema de formato en alguna variable?"
      ],
      "metadata": {
        "id": "HAZhxOMyNFON"
      }
    },
    {
      "cell_type": "code",
      "source": [],
      "metadata": {
        "id": "_GpXEa1oNQfG"
      },
      "execution_count": null,
      "outputs": []
    },
    {
      "cell_type": "markdown",
      "source": [
        "Revisen la cantidad de nulos que tiene cada columna. ¿Es necesario eliminar alguna columna? ¿Se imputarán valores? En caso de imputar, explicar en cada caso, por medio de qué estrategia lo harán. "
      ],
      "metadata": {
        "id": "CmRUpq9FMcsi"
      }
    },
    {
      "cell_type": "code",
      "source": [],
      "metadata": {
        "id": "xSSe-ZHpMmdz"
      },
      "execution_count": null,
      "outputs": []
    },
    {
      "cell_type": "markdown",
      "source": [
        "Para el caso de las variables numéricas, ¿Es necesario normalizar?"
      ],
      "metadata": {
        "id": "b_u-bC8FNTkT"
      }
    },
    {
      "cell_type": "code",
      "source": [],
      "metadata": {
        "id": "I9w7a6dXNYPz"
      },
      "execution_count": null,
      "outputs": []
    },
    {
      "cell_type": "markdown",
      "source": [
        "Realice las transformaciones que considere pertinentes con el fin de preparar los datos para un modelo de clasificación de un paciente con desenlace en Hospitalización. "
      ],
      "metadata": {
        "id": "EiqnqbBuNmmW"
      }
    },
    {
      "cell_type": "code",
      "source": [],
      "metadata": {
        "id": "m_n9Yfg0NmTP"
      },
      "execution_count": null,
      "outputs": []
    },
    {
      "cell_type": "markdown",
      "source": [
        "Realice una matriz de correlación con el fin de determinar si hay variables redundantes. En caso de encontrar altas correlaciones, ¿Tomará alguna acción?"
      ],
      "metadata": {
        "id": "_xXX6APsNjkV"
      }
    },
    {
      "cell_type": "code",
      "source": [],
      "metadata": {
        "id": "paHDdRnYN_Gl"
      },
      "execution_count": null,
      "outputs": []
    },
    {
      "cell_type": "markdown",
      "source": [
        "Exporte la base de datos preparada en un archivo .csv para el modelamiento. "
      ],
      "metadata": {
        "id": "P2oE3VuBN_d6"
      }
    },
    {
      "cell_type": "code",
      "source": [],
      "metadata": {
        "id": "SzPhC-FROFGt"
      },
      "execution_count": null,
      "outputs": []
    }
  ],
  "metadata": {
    "kernelspec": {
      "display_name": "Python 3",
      "language": "python",
      "name": "python3"
    },
    "language_info": {
      "codemirror_mode": {
        "name": "ipython",
        "version": 3
      },
      "file_extension": ".py",
      "mimetype": "text/x-python",
      "name": "python",
      "nbconvert_exporter": "python",
      "pygments_lexer": "ipython3",
      "version": "3.7.8"
    },
    "orig_nbformat": 4,
    "vscode": {
      "interpreter": {
        "hash": "ae0e7af47f894f9476ada5eb18ddb08363018cc3b7dc70bce08ae16d38df8604"
      }
    },
    "colab": {
      "provenance": []
    }
  },
  "nbformat": 4,
  "nbformat_minor": 0
}
