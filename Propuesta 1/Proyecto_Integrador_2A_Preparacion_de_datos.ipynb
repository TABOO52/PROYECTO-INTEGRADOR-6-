{
  "cells": [
    {
      "cell_type": "markdown",
      "metadata": {
        "id": "4WaoEOp0KkSp"
      },
      "source": [
        "![HenryLogo](https://d31uz8lwfmyn8g.cloudfront.net/Assets/logo-henry-white-lg.png)\n",
        "\n",
        "# **Proyecto integrador**\n",
        "\n",
        "### 2. Preparación de datos\n",
        "\n",
        "Una vez entendido el contexto de la problemática y realizado el análisis exploratorio de datos de acuerdo con la descripción del dataset y la información entregada al equipo en la fase anterior, se comparte un paso a paso que deberá ser diligenciado por el equipo de ciencia de datos asignado para esta tarea con el fin de guiar el proceso de EDA y preparación de datos, lo cual es crucial antes de desarollar el modelamiento. \n",
        "\n",
        "El estudio tiene como objetivo la clasificación de un paciente como hospitalizado o no hospitalizado.\n",
        "\n",
        "\n"
      ]
    },
    {
      "cell_type": "markdown",
      "metadata": {
        "id": "E22GkymtLevx"
      },
      "source": [
        "Carguen la base de datos y revisen el tipo de cada columna del dataset. Si es necesario realicen conversiones de tipos de datos. "
      ]
    },
    {
      "cell_type": "code",
      "execution_count": null,
      "metadata": {
        "id": "dlRCMYtGLqDJ"
      },
      "outputs": [],
      "source": [
        "import pandas as pd\n",
        "import numpy as np\n",
        "\n",
        "df = pd.read_excel('BBDD_Hospitalización.xlsx')\n",
        "df\n",
        "# Todas las columnas tienen valores faltantes\n",
        "\n",
        "# Edad = float (int) \n",
        "# Diabetes = object (bool) \n",
        "# Hosp... = object (bool)\n",
        "# psa = float\n",
        "# Biopsia... = object (bool)\n",
        "# Volumen prostatico = object (bool)\n",
        "# Antibiotico... = object \n",
        "# Numero de muestras = float (int)\n",
        "# CUP = object (bool)\n",
        "# Enf cro... = object (bool)\n",
        "# Biopsia = object \n",
        "# Numero dias... = object \n",
        "# Fiebre = object (bool)\n",
        "# ITU = object (bool)\n",
        "# Tipo cultivo = object\n",
        "# Agente aislado = object \n",
        "# Patron de resistencia = object\n",
        "# Hospitalizacion = object (bool)\n",
        "# Dias MQ = float (int)\n",
        "# Dias UPC = float (int)"
      ]
    },
    {
      "cell_type": "code",
      "execution_count": 47,
      "metadata": {},
      "outputs": [
        {
          "name": "stdout",
          "output_type": "stream",
          "text": [
            "EDAD                                                                         float64\n",
            "DIABETES                                                                      object\n",
            "HOSPITALIZACIÓN ULTIMO MES                                                    object\n",
            "PSA                                                                          float64\n",
            "BIOPSIAS PREVIAS                                                              object\n",
            "VOLUMEN PROSTATICO                                                            object\n",
            "ANTIBIOTICO UTILIAZADO EN LA PROFILAXIS                                       object\n",
            "NUMERO DE MUESTRAS TOMADAS                                                   float64\n",
            "CUP                                                                           object\n",
            "ENF. CRONICA PULMONAR OBSTRUCTIVA                                             object\n",
            "BIOPSIA                                                                       object\n",
            "NUMERO DE DIAS POST BIOPSIA EN QUE SE PRESENTA LA COMPLICACIÓN INFECCIOSA     object\n",
            "FIEBRE                                                                        object\n",
            "ITU                                                                           object\n",
            "TIPO DE CULTIVO                                                               object\n",
            "AGENTE AISLADO                                                                object\n",
            "PATRON DE RESISTENCIA                                                         object\n",
            "HOSPITALIZACION                                                               object\n",
            "DIAS HOSPITALIZACION MQ                                                      float64\n",
            "DIAS HOSPITALIZACIÓN UPC                                                     float64\n",
            "dtype: object\n"
          ]
        }
      ],
      "source": [
        "print(df.dtypes)"
      ]
    },
    {
      "cell_type": "code",
      "execution_count": 63,
      "metadata": {},
      "outputs": [],
      "source": [
        "columnas_especificas = df[['NUMERO DE DIAS POST BIOPSIA EN QUE SE PRESENTA LA COMPLICACIÓN INFECCIOSA','BIOPSIA','HOSPITALIZACION']]\n",
        "filtered_df = df[(df['NUMERO DE DIAS POST BIOPSIA EN QUE SE PRESENTA LA COMPLICACIÓN INFECCIOSA'] == 'NO') & (df['HOSPITALIZACION'] == 'SI')]"
      ]
    },
    {
      "cell_type": "code",
      "execution_count": 65,
      "metadata": {},
      "outputs": [
        {
          "data": {
            "text/html": [
              "<div>\n",
              "<style scoped>\n",
              "    .dataframe tbody tr th:only-of-type {\n",
              "        vertical-align: middle;\n",
              "    }\n",
              "\n",
              "    .dataframe tbody tr th {\n",
              "        vertical-align: top;\n",
              "    }\n",
              "\n",
              "    .dataframe thead th {\n",
              "        text-align: right;\n",
              "    }\n",
              "</style>\n",
              "<table border=\"1\" class=\"dataframe\">\n",
              "  <thead>\n",
              "    <tr style=\"text-align: right;\">\n",
              "      <th></th>\n",
              "      <th>NUMERO DE DIAS POST BIOPSIA EN QUE SE PRESENTA LA COMPLICACIÓN INFECCIOSA</th>\n",
              "      <th>BIOPSIA</th>\n",
              "      <th>HOSPITALIZACION</th>\n",
              "    </tr>\n",
              "  </thead>\n",
              "  <tbody>\n",
              "    <tr>\n",
              "      <th>0</th>\n",
              "      <td>1</td>\n",
              "      <td>NEG</td>\n",
              "      <td>SI</td>\n",
              "    </tr>\n",
              "    <tr>\n",
              "      <th>1</th>\n",
              "      <td>1</td>\n",
              "      <td>NEG</td>\n",
              "      <td>SI</td>\n",
              "    </tr>\n",
              "    <tr>\n",
              "      <th>2</th>\n",
              "      <td>1</td>\n",
              "      <td>NEG</td>\n",
              "      <td>SI</td>\n",
              "    </tr>\n",
              "    <tr>\n",
              "      <th>3</th>\n",
              "      <td>1</td>\n",
              "      <td>NEG</td>\n",
              "      <td>SI</td>\n",
              "    </tr>\n",
              "    <tr>\n",
              "      <th>4</th>\n",
              "      <td>1</td>\n",
              "      <td>NEG</td>\n",
              "      <td>SI</td>\n",
              "    </tr>\n",
              "    <tr>\n",
              "      <th>5</th>\n",
              "      <td>2</td>\n",
              "      <td>NEG</td>\n",
              "      <td>SI</td>\n",
              "    </tr>\n",
              "    <tr>\n",
              "      <th>6</th>\n",
              "      <td>2</td>\n",
              "      <td>NEG</td>\n",
              "      <td>SI</td>\n",
              "    </tr>\n",
              "    <tr>\n",
              "      <th>7</th>\n",
              "      <td>2</td>\n",
              "      <td>NEG</td>\n",
              "      <td>SI</td>\n",
              "    </tr>\n",
              "    <tr>\n",
              "      <th>8</th>\n",
              "      <td>2</td>\n",
              "      <td>NEG</td>\n",
              "      <td>SI</td>\n",
              "    </tr>\n",
              "    <tr>\n",
              "      <th>9</th>\n",
              "      <td>2</td>\n",
              "      <td>NEG</td>\n",
              "      <td>SI</td>\n",
              "    </tr>\n",
              "    <tr>\n",
              "      <th>10</th>\n",
              "      <td>2</td>\n",
              "      <td>NEG</td>\n",
              "      <td>SI</td>\n",
              "    </tr>\n",
              "    <tr>\n",
              "      <th>11</th>\n",
              "      <td>2</td>\n",
              "      <td>NEG</td>\n",
              "      <td>SI</td>\n",
              "    </tr>\n",
              "    <tr>\n",
              "      <th>12</th>\n",
              "      <td>2</td>\n",
              "      <td>NEG</td>\n",
              "      <td>SI</td>\n",
              "    </tr>\n",
              "    <tr>\n",
              "      <th>13</th>\n",
              "      <td>2</td>\n",
              "      <td>NEG</td>\n",
              "      <td>SI</td>\n",
              "    </tr>\n",
              "    <tr>\n",
              "      <th>14</th>\n",
              "      <td>3</td>\n",
              "      <td>NEG</td>\n",
              "      <td>SI</td>\n",
              "    </tr>\n",
              "    <tr>\n",
              "      <th>15</th>\n",
              "      <td>3</td>\n",
              "      <td>NEG</td>\n",
              "      <td>SI</td>\n",
              "    </tr>\n",
              "    <tr>\n",
              "      <th>16</th>\n",
              "      <td>3</td>\n",
              "      <td>NEG</td>\n",
              "      <td>SI</td>\n",
              "    </tr>\n",
              "    <tr>\n",
              "      <th>17</th>\n",
              "      <td>3</td>\n",
              "      <td>ADENOCARCINOMA GLEASON 6</td>\n",
              "      <td>SI</td>\n",
              "    </tr>\n",
              "    <tr>\n",
              "      <th>18</th>\n",
              "      <td>3</td>\n",
              "      <td>NEG</td>\n",
              "      <td>SI</td>\n",
              "    </tr>\n",
              "    <tr>\n",
              "      <th>19</th>\n",
              "      <td>3</td>\n",
              "      <td>NEG</td>\n",
              "      <td>SI</td>\n",
              "    </tr>\n",
              "    <tr>\n",
              "      <th>20</th>\n",
              "      <td>3</td>\n",
              "      <td>NEG</td>\n",
              "      <td>SI</td>\n",
              "    </tr>\n",
              "    <tr>\n",
              "      <th>21</th>\n",
              "      <td>3</td>\n",
              "      <td>ADENOCARCINOMA GLEASON 6</td>\n",
              "      <td>SI</td>\n",
              "    </tr>\n",
              "    <tr>\n",
              "      <th>22</th>\n",
              "      <td>5</td>\n",
              "      <td>ADENOCARCINOMA GLEASON 7</td>\n",
              "      <td>SI</td>\n",
              "    </tr>\n",
              "    <tr>\n",
              "      <th>23</th>\n",
              "      <td>5</td>\n",
              "      <td>ADENOCARCINOMA GLEASON 7</td>\n",
              "      <td>SI</td>\n",
              "    </tr>\n",
              "    <tr>\n",
              "      <th>24</th>\n",
              "      <td>9</td>\n",
              "      <td>ADENOCARCINOMA GLEASON 6</td>\n",
              "      <td>NO</td>\n",
              "    </tr>\n",
              "    <tr>\n",
              "      <th>25</th>\n",
              "      <td>9</td>\n",
              "      <td>ADENOCARCINOMA GLEASON 6</td>\n",
              "      <td>NO</td>\n",
              "    </tr>\n",
              "    <tr>\n",
              "      <th>26</th>\n",
              "      <td>NO</td>\n",
              "      <td>ADENOCARCINOMA GLEASON 7</td>\n",
              "      <td>NO</td>\n",
              "    </tr>\n",
              "    <tr>\n",
              "      <th>27</th>\n",
              "      <td>NO</td>\n",
              "      <td>ADENOCARCINOMA GLEASON 10</td>\n",
              "      <td>NO</td>\n",
              "    </tr>\n",
              "    <tr>\n",
              "      <th>28</th>\n",
              "      <td>NO</td>\n",
              "      <td>ADENOCARCINOMA GLEASON 7</td>\n",
              "      <td>NO</td>\n",
              "    </tr>\n",
              "    <tr>\n",
              "      <th>29</th>\n",
              "      <td>NO</td>\n",
              "      <td>ADENOCARCINOMA GLEASON 10</td>\n",
              "      <td>NO</td>\n",
              "    </tr>\n",
              "    <tr>\n",
              "      <th>30</th>\n",
              "      <td>NO</td>\n",
              "      <td>NEG</td>\n",
              "      <td>NO</td>\n",
              "    </tr>\n",
              "    <tr>\n",
              "      <th>31</th>\n",
              "      <td>NO</td>\n",
              "      <td>ADENOCARCINOMA GLEASON 7</td>\n",
              "      <td>NaN</td>\n",
              "    </tr>\n",
              "    <tr>\n",
              "      <th>32</th>\n",
              "      <td>NO</td>\n",
              "      <td>NEG</td>\n",
              "      <td>NO</td>\n",
              "    </tr>\n",
              "    <tr>\n",
              "      <th>33</th>\n",
              "      <td>NO</td>\n",
              "      <td>ADENOCARCINOMA GLEASON 7</td>\n",
              "      <td>NO</td>\n",
              "    </tr>\n",
              "    <tr>\n",
              "      <th>34</th>\n",
              "      <td>NO</td>\n",
              "      <td>ADENOCARCINOMA GLEASON 9</td>\n",
              "      <td>NO</td>\n",
              "    </tr>\n",
              "    <tr>\n",
              "      <th>35</th>\n",
              "      <td>NO</td>\n",
              "      <td>ADENOCARCINOMA GLEASON 6</td>\n",
              "      <td>NO</td>\n",
              "    </tr>\n",
              "    <tr>\n",
              "      <th>36</th>\n",
              "      <td>NO</td>\n",
              "      <td>ADENOCARCINOMA GLEASON 8</td>\n",
              "      <td>NO</td>\n",
              "    </tr>\n",
              "    <tr>\n",
              "      <th>37</th>\n",
              "      <td>NO</td>\n",
              "      <td>NEG</td>\n",
              "      <td>NO</td>\n",
              "    </tr>\n",
              "    <tr>\n",
              "      <th>38</th>\n",
              "      <td>NO</td>\n",
              "      <td>ADENOCARCINOMA GLEASON 6</td>\n",
              "      <td>NO</td>\n",
              "    </tr>\n",
              "    <tr>\n",
              "      <th>39</th>\n",
              "      <td>NO</td>\n",
              "      <td>NEG</td>\n",
              "      <td>NO</td>\n",
              "    </tr>\n",
              "    <tr>\n",
              "      <th>40</th>\n",
              "      <td>NO</td>\n",
              "      <td>ADENOCARCINOMA GLEASON 9</td>\n",
              "      <td>NO</td>\n",
              "    </tr>\n",
              "    <tr>\n",
              "      <th>41</th>\n",
              "      <td>NO</td>\n",
              "      <td>ADENOCARCINOMA GLEASON 6</td>\n",
              "      <td>NO</td>\n",
              "    </tr>\n",
              "    <tr>\n",
              "      <th>42</th>\n",
              "      <td>NO</td>\n",
              "      <td>ADENOCARCINOMA GLEASON 8</td>\n",
              "      <td>NO</td>\n",
              "    </tr>\n",
              "    <tr>\n",
              "      <th>43</th>\n",
              "      <td>NO</td>\n",
              "      <td>NEG</td>\n",
              "      <td>NO</td>\n",
              "    </tr>\n",
              "    <tr>\n",
              "      <th>44</th>\n",
              "      <td>NO</td>\n",
              "      <td>ADENOCARCINOMA GLEASON 6</td>\n",
              "      <td>NO</td>\n",
              "    </tr>\n",
              "    <tr>\n",
              "      <th>45</th>\n",
              "      <td>NO</td>\n",
              "      <td>NEG</td>\n",
              "      <td>NO</td>\n",
              "    </tr>\n",
              "    <tr>\n",
              "      <th>46</th>\n",
              "      <td>NO</td>\n",
              "      <td>ADENOCARCINOMA GLEASON 10</td>\n",
              "      <td>NO</td>\n",
              "    </tr>\n",
              "    <tr>\n",
              "      <th>47</th>\n",
              "      <td>NO</td>\n",
              "      <td>NEG</td>\n",
              "      <td>NO</td>\n",
              "    </tr>\n",
              "    <tr>\n",
              "      <th>48</th>\n",
              "      <td>NO</td>\n",
              "      <td>ADENOCARCINOMA GLEASON 10</td>\n",
              "      <td>NO</td>\n",
              "    </tr>\n",
              "    <tr>\n",
              "      <th>49</th>\n",
              "      <td>NO</td>\n",
              "      <td>NEG</td>\n",
              "      <td>NO</td>\n",
              "    </tr>\n",
              "  </tbody>\n",
              "</table>\n",
              "</div>"
            ],
            "text/plain": [
              "   NUMERO DE DIAS POST BIOPSIA EN QUE SE PRESENTA LA COMPLICACIÓN INFECCIOSA  \\\n",
              "0                                                   1                          \n",
              "1                                                   1                          \n",
              "2                                                   1                          \n",
              "3                                                   1                          \n",
              "4                                                   1                          \n",
              "5                                                   2                          \n",
              "6                                                   2                          \n",
              "7                                                   2                          \n",
              "8                                                   2                          \n",
              "9                                                   2                          \n",
              "10                                                  2                          \n",
              "11                                                  2                          \n",
              "12                                                  2                          \n",
              "13                                                  2                          \n",
              "14                                                  3                          \n",
              "15                                                  3                          \n",
              "16                                                  3                          \n",
              "17                                                  3                          \n",
              "18                                                  3                          \n",
              "19                                                  3                          \n",
              "20                                                  3                          \n",
              "21                                                  3                          \n",
              "22                                                  5                          \n",
              "23                                                  5                          \n",
              "24                                                  9                          \n",
              "25                                                  9                          \n",
              "26                                                 NO                          \n",
              "27                                                 NO                          \n",
              "28                                                 NO                          \n",
              "29                                                 NO                          \n",
              "30                                                 NO                          \n",
              "31                                                 NO                          \n",
              "32                                                 NO                          \n",
              "33                                                 NO                          \n",
              "34                                                 NO                          \n",
              "35                                                 NO                          \n",
              "36                                                 NO                          \n",
              "37                                                 NO                          \n",
              "38                                                 NO                          \n",
              "39                                                 NO                          \n",
              "40                                                 NO                          \n",
              "41                                                 NO                          \n",
              "42                                                 NO                          \n",
              "43                                                 NO                          \n",
              "44                                                 NO                          \n",
              "45                                                 NO                          \n",
              "46                                                 NO                          \n",
              "47                                                 NO                          \n",
              "48                                                 NO                          \n",
              "49                                                 NO                          \n",
              "\n",
              "                       BIOPSIA HOSPITALIZACION  \n",
              "0                          NEG              SI  \n",
              "1                          NEG              SI  \n",
              "2                          NEG              SI  \n",
              "3                          NEG              SI  \n",
              "4                          NEG              SI  \n",
              "5                          NEG              SI  \n",
              "6                          NEG              SI  \n",
              "7                          NEG              SI  \n",
              "8                          NEG              SI  \n",
              "9                          NEG              SI  \n",
              "10                         NEG              SI  \n",
              "11                         NEG              SI  \n",
              "12                         NEG              SI  \n",
              "13                         NEG              SI  \n",
              "14                         NEG              SI  \n",
              "15                         NEG              SI  \n",
              "16                         NEG              SI  \n",
              "17   ADENOCARCINOMA GLEASON 6               SI  \n",
              "18                         NEG              SI  \n",
              "19                         NEG              SI  \n",
              "20                         NEG              SI  \n",
              "21   ADENOCARCINOMA GLEASON 6               SI  \n",
              "22   ADENOCARCINOMA GLEASON 7               SI  \n",
              "23   ADENOCARCINOMA GLEASON 7               SI  \n",
              "24    ADENOCARCINOMA GLEASON 6              NO  \n",
              "25    ADENOCARCINOMA GLEASON 6              NO  \n",
              "26   ADENOCARCINOMA GLEASON 7               NO  \n",
              "27  ADENOCARCINOMA GLEASON 10               NO  \n",
              "28   ADENOCARCINOMA GLEASON 7               NO  \n",
              "29  ADENOCARCINOMA GLEASON 10               NO  \n",
              "30                         NEG              NO  \n",
              "31   ADENOCARCINOMA GLEASON 7              NaN  \n",
              "32                         NEG              NO  \n",
              "33   ADENOCARCINOMA GLEASON 7               NO  \n",
              "34   ADENOCARCINOMA GLEASON 9               NO  \n",
              "35    ADENOCARCINOMA GLEASON 6              NO  \n",
              "36   ADENOCARCINOMA GLEASON 8               NO  \n",
              "37                         NEG              NO  \n",
              "38   ADENOCARCINOMA GLEASON 6               NO  \n",
              "39                         NEG              NO  \n",
              "40   ADENOCARCINOMA GLEASON 9               NO  \n",
              "41    ADENOCARCINOMA GLEASON 6              NO  \n",
              "42   ADENOCARCINOMA GLEASON 8               NO  \n",
              "43                         NEG              NO  \n",
              "44   ADENOCARCINOMA GLEASON 6               NO  \n",
              "45                         NEG              NO  \n",
              "46  ADENOCARCINOMA GLEASON 10               NO  \n",
              "47                         NEG              NO  \n",
              "48  ADENOCARCINOMA GLEASON 10               NO  \n",
              "49                         NEG              NO  "
            ]
          },
          "execution_count": 65,
          "metadata": {},
          "output_type": "execute_result"
        }
      ],
      "source": [
        "columnas_especificas.head(50)"
      ]
    },
    {
      "cell_type": "code",
      "execution_count": 62,
      "metadata": {},
      "outputs": [
        {
          "data": {
            "text/html": [
              "<div>\n",
              "<style scoped>\n",
              "    .dataframe tbody tr th:only-of-type {\n",
              "        vertical-align: middle;\n",
              "    }\n",
              "\n",
              "    .dataframe tbody tr th {\n",
              "        vertical-align: top;\n",
              "    }\n",
              "\n",
              "    .dataframe thead th {\n",
              "        text-align: right;\n",
              "    }\n",
              "</style>\n",
              "<table border=\"1\" class=\"dataframe\">\n",
              "  <thead>\n",
              "    <tr style=\"text-align: right;\">\n",
              "      <th></th>\n",
              "      <th>EDAD</th>\n",
              "      <th>DIABETES</th>\n",
              "      <th>HOSPITALIZACIÓN ULTIMO MES</th>\n",
              "      <th>PSA</th>\n",
              "      <th>BIOPSIAS PREVIAS</th>\n",
              "      <th>VOLUMEN PROSTATICO</th>\n",
              "      <th>ANTIBIOTICO UTILIAZADO EN LA PROFILAXIS</th>\n",
              "      <th>NUMERO DE MUESTRAS TOMADAS</th>\n",
              "      <th>CUP</th>\n",
              "      <th>ENF. CRONICA PULMONAR OBSTRUCTIVA</th>\n",
              "      <th>BIOPSIA</th>\n",
              "      <th>NUMERO DE DIAS POST BIOPSIA EN QUE SE PRESENTA LA COMPLICACIÓN INFECCIOSA</th>\n",
              "      <th>FIEBRE</th>\n",
              "      <th>ITU</th>\n",
              "      <th>TIPO DE CULTIVO</th>\n",
              "      <th>AGENTE AISLADO</th>\n",
              "      <th>PATRON DE RESISTENCIA</th>\n",
              "      <th>HOSPITALIZACION</th>\n",
              "      <th>DIAS HOSPITALIZACION MQ</th>\n",
              "      <th>DIAS HOSPITALIZACIÓN UPC</th>\n",
              "    </tr>\n",
              "  </thead>\n",
              "  <tbody>\n",
              "  </tbody>\n",
              "</table>\n",
              "</div>"
            ],
            "text/plain": [
              "Empty DataFrame\n",
              "Columns: [EDAD, DIABETES, HOSPITALIZACIÓN ULTIMO MES, PSA, BIOPSIAS PREVIAS, VOLUMEN PROSTATICO, ANTIBIOTICO UTILIAZADO EN LA PROFILAXIS, NUMERO DE MUESTRAS TOMADAS, CUP, ENF. CRONICA PULMONAR OBSTRUCTIVA, BIOPSIA, NUMERO DE DIAS POST BIOPSIA EN QUE SE PRESENTA LA COMPLICACIÓN INFECCIOSA, FIEBRE, ITU, TIPO DE CULTIVO, AGENTE AISLADO, PATRON DE RESISTENCIA, HOSPITALIZACION, DIAS HOSPITALIZACION MQ, DIAS HOSPITALIZACIÓN UPC]\n",
              "Index: []"
            ]
          },
          "execution_count": 62,
          "metadata": {},
          "output_type": "execute_result"
        }
      ],
      "source": [
        "filtered_df"
      ]
    },
    {
      "cell_type": "markdown",
      "metadata": {
        "id": "X33Od3Y_Lrye"
      },
      "source": [
        "Eliminen variables si es que consideran irrelevantes, sustentando adecuadamente por qué."
      ]
    },
    {
      "cell_type": "code",
      "execution_count": null,
      "metadata": {
        "id": "Zjq3g_zkMUT5"
      },
      "outputs": [],
      "source": [
        "df = df.drop(columns=['DIABETES','HOSPITALIZACIÓN ULTIMO MES','PSA','BIOPSIAS PREVIAS','VOLUMEN PROSTATICO','ANTIBIOTICO UTILIAZADO EN LA PROFILAXIS','NUMERO DE MUESTRAS TOMADAS',])\n",
        "#CUP = Se encontró que todas las personas que tuvieron hospitalizacion positiva ninguna tuvo CUP por lo tanto se decide dejar para analisis.\n",
        "#ENF CRONICA OBSTRUCTIVA = Se encontró que todas las personas que tuvieron hospitalizacion positiva ninguna tuvo ENF CRONICA OBSTRUCTIVA por lo tanto se decide dejar para analisis.\n",
        "#BIOPSIA & NUMERO DE DIAS POST BIOPSIA EN QUE SE PRESENTA LA COMPLICACIÓN INFECCIOSA = Posible relacion de entre Biopsia, Complicacion y Hospitalizacion\n"
      ]
    },
    {
      "cell_type": "markdown",
      "metadata": {
        "id": "mTV2RdmbMoRE"
      },
      "source": [
        "Revisen la distribución estadística para el caso de las variables numéricas. ¿Qué gráficos permiten realizar un estudio exploratorio de la distribución? ¿Hay datos atípicos?"
      ]
    },
    {
      "cell_type": "code",
      "execution_count": null,
      "metadata": {
        "id": "ILzt6oOaM1ag"
      },
      "outputs": [],
      "source": []
    },
    {
      "cell_type": "markdown",
      "metadata": {
        "id": "zyQIaY1bM12g"
      },
      "source": [
        "Si encontraron datos atípicos, ¿Imputarán o eliminarán los valores? Sustentar."
      ]
    },
    {
      "cell_type": "code",
      "execution_count": null,
      "metadata": {
        "id": "HO3Db1YQM9JS"
      },
      "outputs": [],
      "source": []
    },
    {
      "cell_type": "markdown",
      "metadata": {
        "id": "HAZhxOMyNFON"
      },
      "source": [
        "Para las variables categóricas, realizar una visualización adecuada para observar las frecuencias de cada categoría. ¿Observa alguna anomalía, problema de formato en alguna variable?"
      ]
    },
    {
      "cell_type": "code",
      "execution_count": null,
      "metadata": {
        "id": "_GpXEa1oNQfG"
      },
      "outputs": [],
      "source": []
    },
    {
      "cell_type": "markdown",
      "metadata": {
        "id": "CmRUpq9FMcsi"
      },
      "source": [
        "Revisen la cantidad de nulos que tiene cada columna. ¿Es necesario eliminar alguna columna? ¿Se imputarán valores? En caso de imputar, explicar en cada caso, por medio de qué estrategia lo harán. "
      ]
    },
    {
      "cell_type": "code",
      "execution_count": null,
      "metadata": {
        "id": "xSSe-ZHpMmdz"
      },
      "outputs": [],
      "source": []
    },
    {
      "cell_type": "markdown",
      "metadata": {
        "id": "b_u-bC8FNTkT"
      },
      "source": [
        "Para el caso de las variables numéricas, ¿Es necesario normalizar?"
      ]
    },
    {
      "cell_type": "code",
      "execution_count": null,
      "metadata": {
        "id": "I9w7a6dXNYPz"
      },
      "outputs": [],
      "source": []
    },
    {
      "cell_type": "markdown",
      "metadata": {
        "id": "EiqnqbBuNmmW"
      },
      "source": [
        "Realice las transformaciones que considere pertinentes con el fin de preparar los datos para un modelo de clasificación de un paciente con desenlace en Hospitalización. "
      ]
    },
    {
      "cell_type": "code",
      "execution_count": null,
      "metadata": {
        "id": "m_n9Yfg0NmTP"
      },
      "outputs": [],
      "source": []
    },
    {
      "cell_type": "markdown",
      "metadata": {
        "id": "_xXX6APsNjkV"
      },
      "source": [
        "Realice una matriz de correlación con el fin de determinar si hay variables redundantes. En caso de encontrar altas correlaciones, ¿Tomará alguna acción?"
      ]
    },
    {
      "cell_type": "code",
      "execution_count": null,
      "metadata": {
        "id": "paHDdRnYN_Gl"
      },
      "outputs": [],
      "source": []
    },
    {
      "cell_type": "markdown",
      "metadata": {
        "id": "P2oE3VuBN_d6"
      },
      "source": [
        "Exporte la base de datos preparada en un archivo .csv para el modelamiento. "
      ]
    },
    {
      "cell_type": "code",
      "execution_count": null,
      "metadata": {
        "id": "SzPhC-FROFGt"
      },
      "outputs": [],
      "source": []
    }
  ],
  "metadata": {
    "colab": {
      "provenance": []
    },
    "kernelspec": {
      "display_name": "Python 3",
      "language": "python",
      "name": "python3"
    },
    "language_info": {
      "codemirror_mode": {
        "name": "ipython",
        "version": 3
      },
      "file_extension": ".py",
      "mimetype": "text/x-python",
      "name": "python",
      "nbconvert_exporter": "python",
      "pygments_lexer": "ipython3",
      "version": "3.12.4"
    },
    "orig_nbformat": 4,
    "vscode": {
      "interpreter": {
        "hash": "ae0e7af47f894f9476ada5eb18ddb08363018cc3b7dc70bce08ae16d38df8604"
      }
    }
  },
  "nbformat": 4,
  "nbformat_minor": 0
}
