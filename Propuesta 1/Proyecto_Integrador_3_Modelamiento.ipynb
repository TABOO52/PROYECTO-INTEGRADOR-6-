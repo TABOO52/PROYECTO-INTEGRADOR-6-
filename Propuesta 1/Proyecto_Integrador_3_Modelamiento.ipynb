{
  "cells": [
    {
      "cell_type": "markdown",
      "source": [
        "![HenryLogo](https://d31uz8lwfmyn8g.cloudfront.net/Assets/logo-henry-white-lg.png)\n",
        "\n",
        "# **Proyecto integrador**\n",
        "\n",
        "### 3. Modelamiento\n",
        "\n",
        "Una vez preparados los datos, se procederá con el modelamiento. Recuerden que el objetivo es clasificar a un paciente como hospitalizado o no hospitalizado, teniendo en cuenta un data set que contiene información referente a antecedentes del paciente, morbilidad asociada al paciente y antecedentes relacionados con la toma de la biopsia y complicaciones infecciosas.\n",
        "\n",
        "\n"
      ],
      "metadata": {
        "id": "4WaoEOp0KkSp"
      }
    },
    {
      "cell_type": "markdown",
      "source": [
        "Carguen la base de datos preparada desde la fase 2."
      ],
      "metadata": {
        "id": "E22GkymtLevx"
      }
    },
    {
      "cell_type": "code",
      "source": [],
      "metadata": {
        "id": "dlRCMYtGLqDJ"
      },
      "execution_count": null,
      "outputs": []
    },
    {
      "cell_type": "markdown",
      "source": [
        "Separen el dataset en X, y (variable objetivo)"
      ],
      "metadata": {
        "id": "X33Od3Y_Lrye"
      }
    },
    {
      "cell_type": "code",
      "source": [],
      "metadata": {
        "id": "Zjq3g_zkMUT5"
      },
      "execution_count": null,
      "outputs": []
    },
    {
      "cell_type": "markdown",
      "source": [
        "Separen el dataset en X_train, X_test, y_train y y_test"
      ],
      "metadata": {
        "id": "mTV2RdmbMoRE"
      }
    },
    {
      "cell_type": "code",
      "source": [],
      "metadata": {
        "id": "ILzt6oOaM1ag"
      },
      "execution_count": null,
      "outputs": []
    },
    {
      "cell_type": "markdown",
      "source": [
        "Instancien, entrenen y predigan sobre un árbol de decisión asignando una profundidad máxima arbitraria"
      ],
      "metadata": {
        "id": "zyQIaY1bM12g"
      }
    },
    {
      "cell_type": "code",
      "source": [],
      "metadata": {
        "id": "HO3Db1YQM9JS"
      },
      "execution_count": null,
      "outputs": []
    },
    {
      "cell_type": "markdown",
      "source": [
        "Realicen la matriz de confusión para este modelo. Se recomienda utilizar mapa de calor para la visualización. "
      ],
      "metadata": {
        "id": "HAZhxOMyNFON"
      }
    },
    {
      "cell_type": "code",
      "source": [],
      "metadata": {
        "id": "_GpXEa1oNQfG"
      },
      "execution_count": null,
      "outputs": []
    },
    {
      "cell_type": "markdown",
      "source": [
        "Seleccione tres métricas de evaluación para este modelo de clasificación y describa el significado de cada una de ellas para el modelo creado."
      ],
      "metadata": {
        "id": "CmRUpq9FMcsi"
      }
    },
    {
      "cell_type": "code",
      "source": [],
      "metadata": {
        "id": "xSSe-ZHpMmdz"
      },
      "execution_count": null,
      "outputs": []
    },
    {
      "cell_type": "markdown",
      "source": [
        "Realice un diagrama de la importancia de cada variable respecto a la clasificación de la variable objetivo"
      ],
      "metadata": {
        "id": "b_u-bC8FNTkT"
      }
    },
    {
      "cell_type": "code",
      "source": [],
      "metadata": {
        "id": "I9w7a6dXNYPz"
      },
      "execution_count": null,
      "outputs": []
    },
    {
      "cell_type": "markdown",
      "source": [
        "Encuentre cuál sería un valor óptimo para el hiperparámetro **max_depth** para el árbol de decisión. Construya un modelo con este valor y compare las métricas de evaluación respecto al modelo creado con una profundidad arbitraria. "
      ],
      "metadata": {
        "id": "E3k9TEhuSU9i"
      }
    },
    {
      "cell_type": "code",
      "source": [],
      "metadata": {
        "id": "CUdKvPY0S1SC"
      },
      "execution_count": null,
      "outputs": []
    },
    {
      "cell_type": "markdown",
      "source": [
        "Instancien, entrenen y predigan sobre un modelo de k-vecinos asignando una cantidad de vecinos k-aribitraria. "
      ],
      "metadata": {
        "id": "EiqnqbBuNmmW"
      }
    },
    {
      "cell_type": "code",
      "source": [],
      "metadata": {
        "id": "m_n9Yfg0NmTP"
      },
      "execution_count": null,
      "outputs": []
    },
    {
      "cell_type": "markdown",
      "source": [
        "Encuentre el valor óptimo para k"
      ],
      "metadata": {
        "id": "kiZg1tfCS38i"
      }
    },
    {
      "cell_type": "code",
      "source": [],
      "metadata": {
        "id": "DVaNp3K9S7Os"
      },
      "execution_count": null,
      "outputs": []
    },
    {
      "cell_type": "markdown",
      "source": [
        "Halle las mismas tres métricas de evaluación para este modelo de clasificación y compare los valores para el performance, respecto al árbol de decisión cuyo hiperparámetro **max_depth** se optimizó. ¿Qué puede concluir? "
      ],
      "metadata": {
        "id": "_xXX6APsNjkV"
      }
    },
    {
      "cell_type": "code",
      "source": [],
      "metadata": {
        "id": "paHDdRnYN_Gl"
      },
      "execution_count": null,
      "outputs": []
    },
    {
      "cell_type": "markdown",
      "source": [
        "De acuerdo con lo aprendido en el módulo, ¿Cómo cree que se puede mejorar el performance de este modelo? "
      ],
      "metadata": {
        "id": "JeGx2V0lTF9i"
      }
    },
    {
      "cell_type": "markdown",
      "source": [
        "R/"
      ],
      "metadata": {
        "id": "lPfoiS6ZTN-4"
      }
    }
  ],
  "metadata": {
    "kernelspec": {
      "display_name": "Python 3",
      "language": "python",
      "name": "python3"
    },
    "language_info": {
      "codemirror_mode": {
        "name": "ipython",
        "version": 3
      },
      "file_extension": ".py",
      "mimetype": "text/x-python",
      "name": "python",
      "nbconvert_exporter": "python",
      "pygments_lexer": "ipython3",
      "version": "3.7.8"
    },
    "orig_nbformat": 4,
    "vscode": {
      "interpreter": {
        "hash": "ae0e7af47f894f9476ada5eb18ddb08363018cc3b7dc70bce08ae16d38df8604"
      }
    },
    "colab": {
      "provenance": []
    }
  },
  "nbformat": 4,
  "nbformat_minor": 0
}